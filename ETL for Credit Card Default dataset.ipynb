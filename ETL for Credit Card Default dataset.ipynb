{
 "cells": [
  {
   "cell_type": "markdown",
   "id": "f46c509d",
   "metadata": {},
   "source": [
    "# Import libraries\n",
    "\n",
    "### - Pandas is use for reading CSV, turn into dataframe\n",
    "### - MySQLdb is library that enable Python connect with MySQL server"
   ]
  },
  {
   "cell_type": "code",
   "execution_count": 16,
   "id": "377cb7f2",
   "metadata": {},
   "outputs": [],
   "source": [
    "import pandas as pd\n",
    "import MySQLdb"
   ]
  },
  {
   "cell_type": "markdown",
   "id": "3c82ddba",
   "metadata": {},
   "source": [
    "# SQL Insert command "
   ]
  },
  {
   "cell_type": "markdown",
   "id": "f07110a0",
   "metadata": {},
   "source": [
    "### Writing the SQL code for Insert Value and assign it to INSERT_DB:"
   ]
  },
  {
   "cell_type": "markdown",
   "id": "896f9910",
   "metadata": {},
   "source": [
    "INSERT INTO table_name (column1, column2, column3, ...)"
   ]
  },
  {
   "cell_type": "markdown",
   "id": "30d46b10",
   "metadata": {},
   "source": [
    "VALUES (value1, value2, value3, ...);"
   ]
  },
  {
   "cell_type": "code",
   "execution_count": 17,
   "id": "916fb9ee",
   "metadata": {},
   "outputs": [],
   "source": [
    "INSERT_DB = \"INSERT INTO card_default(id, limit_bal, sex, education, marriage, age,\\\n",
    "pay_status1, pay_status2, pay_status3, pay_status4, pay_status5,  pay_status6,\\\n",
    "bill_amt1, bill_amt2, bill_amt3, bill_amt4, bill_amt5,  bill_amt6,\\\n",
    "pay_amt1, pay_amt2, pay_amt3, pay_amt4, pay_amt5,  pay_amt6,\\\n",
    "pay_default) \\\n",
    "VALUES ({0}, {1}, '{2}', '{3}', '{4}', {5}\\\n",
    ", '{6}', '{7}', '{8}', '{9}', '{10}', '{11}'\\\n",
    ", {12}, {13}, {14}, {15}, {16}, {17} \\\n",
    ", {18}, {19}, {20}, {21}, {22}, {23}\\\n",
    ", {24})\" "
   ]
  },
  {
   "cell_type": "markdown",
   "id": "1a45df4b",
   "metadata": {},
   "source": [
    "# Connect with MySQL"
   ]
  },
  {
   "cell_type": "markdown",
   "id": "5f0f1427",
   "metadata": {},
   "source": [
    "Fill in hostname, username, password, database."
   ]
  },
  {
   "cell_type": "code",
   "execution_count": 30,
   "id": "a199f8a2",
   "metadata": {},
   "outputs": [],
   "source": [
    "db = MySQLdb.connect(host=\"localhost\",\n",
    "                     user=\"root\",\n",
    "                     passwd=\"123456\",\n",
    "                    db = \"ss\")\n",
    "cur = db.cursor()"
   ]
  },
  {
   "cell_type": "markdown",
   "id": "cdcb70d3",
   "metadata": {},
   "source": [
    "# Extract CSV to dataframe using Pandas"
   ]
  },
  {
   "cell_type": "code",
   "execution_count": 21,
   "id": "5c771fd2",
   "metadata": {},
   "outputs": [],
   "source": [
    "card_default = pd.read_csv(\"UCI_Credit_Card.csv\") "
   ]
  },
  {
   "cell_type": "markdown",
   "id": "2a571273",
   "metadata": {},
   "source": [
    "# Transform Data"
   ]
  },
  {
   "cell_type": "markdown",
   "id": "59243f8f",
   "metadata": {},
   "source": [
    "## Change column name\n",
    "##### - default.payment.next.month : change to DEFAULT (shorter and witou dot that could cause error code)\n",
    "##### - PAY_0 : change to PAY_1 (to consistent with other columns eg. BILL_AMT1 and PAY_AMT1)"
   ]
  },
  {
   "cell_type": "code",
   "execution_count": 22,
   "id": "107e865c",
   "metadata": {},
   "outputs": [],
   "source": [
    "card_default = card_default.rename(columns={'default.payment.next.month': 'DEFAULT', 'PAY_0': 'PAY_1'})"
   ]
  },
  {
   "cell_type": "markdown",
   "id": "3eb93178",
   "metadata": {},
   "source": [
    "## Change value in EDUCATION"
   ]
  },
  {
   "cell_type": "markdown",
   "id": "947d6a41",
   "metadata": {},
   "source": [
    "#### - Change from numerical 1, 2, 3 to Graduate School, University, High School\n",
    "#### - Change from numerical 0, 4, 5 to Other (no clear description from dataset, all assume to be other)\n",
    "#### - Print out unique value to see changes"
   ]
  },
  {
   "cell_type": "markdown",
   "id": "aeb645f8",
   "metadata": {},
   "source": [
    "Changing numerical to string, because it will be more convenient when analysing in SQL. When doing a GROUP BY, it make more sense to show name of each category, instead of number representation."
   ]
  },
  {
   "cell_type": "code",
   "execution_count": 24,
   "id": "492035da",
   "metadata": {},
   "outputs": [
    {
     "name": "stdout",
     "output_type": "stream",
     "text": [
      "EDUCATION ['University' 'Graduate School' 'High School' 'Other']\n"
     ]
    }
   ],
   "source": [
    "card_default.loc[(card_default.EDUCATION == 1), 'EDUCATION'] = 'Graduate School'\n",
    "card_default.loc[(card_default.EDUCATION == 2), 'EDUCATION'] = 'University'\n",
    "card_default.loc[(card_default.EDUCATION == 3), 'EDUCATION'] = 'High School'\n",
    "\n",
    "fill = (card_default.EDUCATION == 0) | (card_default.EDUCATION == 4) | (card_default.EDUCATION == 5) | (card_default.EDUCATION == 6)\n",
    "card_default.loc[fill, 'EDUCATION'] = 'Other'\n",
    "\n",
    "print('EDUCATION ' + str(card_default['EDUCATION'].unique()))"
   ]
  },
  {
   "cell_type": "markdown",
   "id": "9f84e34e",
   "metadata": {},
   "source": [
    "## Change value in SEX"
   ]
  },
  {
   "cell_type": "markdown",
   "id": "ba338fad",
   "metadata": {},
   "source": [
    "#### -Change from numerical 1 & 2 to M & F\n",
    "#### -Print out unique value to see changes"
   ]
  },
  {
   "cell_type": "code",
   "execution_count": 25,
   "id": "8d6ddb52",
   "metadata": {},
   "outputs": [
    {
     "name": "stdout",
     "output_type": "stream",
     "text": [
      "SEX ['F' 'M']\n"
     ]
    }
   ],
   "source": [
    "card_default.loc[(card_default.SEX == 1), 'SEX'] = 'M'\n",
    "card_default.loc[(card_default.SEX == 2), 'SEX'] = 'F'\n",
    "\n",
    "print('SEX ' + str(card_default['SEX'].unique()))"
   ]
  },
  {
   "cell_type": "markdown",
   "id": "92fde07c",
   "metadata": {},
   "source": [
    "## Change value in MARRIAGE"
   ]
  },
  {
   "cell_type": "markdown",
   "id": "1466f200",
   "metadata": {},
   "source": [
    "#### - Change from numerical 0, 1, 2, 3 to Other, Married, Single Divorce\n",
    "#### - Print out unique value to see changes"
   ]
  },
  {
   "cell_type": "code",
   "execution_count": 26,
   "id": "ad493a42",
   "metadata": {},
   "outputs": [
    {
     "name": "stdout",
     "output_type": "stream",
     "text": [
      "MARRIAGE ['Married' 'Single' 'Divorce' 'Other']\n"
     ]
    }
   ],
   "source": [
    "card_default.loc[(card_default.MARRIAGE == 0), 'MARRIAGE'] = 'Other'\n",
    "card_default.loc[(card_default.MARRIAGE == 1), 'MARRIAGE'] = 'Married'\n",
    "card_default.loc[(card_default.MARRIAGE == 2), 'MARRIAGE'] = 'Single'\n",
    "card_default.loc[(card_default.MARRIAGE == 3), 'MARRIAGE'] = 'Divorce'\n",
    "\n",
    "print('MARRIAGE ' + str(card_default['MARRIAGE'].unique()))"
   ]
  },
  {
   "cell_type": "markdown",
   "id": "e3a8ad5f",
   "metadata": {},
   "source": [
    "## Change value in MARRIAGE"
   ]
  },
  {
   "cell_type": "markdown",
   "id": "124e06c3",
   "metadata": {},
   "source": [
    "#### - Change from numerical -2, -1, 0, 1, 2, ... to no consumption, paid full, paid min, delay 1 mth, delay 2 mths ...\n",
    "#### - Print out unique value to see changes"
   ]
  },
  {
   "cell_type": "code",
   "execution_count": 27,
   "id": "fcd930b9",
   "metadata": {},
   "outputs": [
    {
     "name": "stdout",
     "output_type": "stream",
     "text": [
      "PAY_1 ['delay 1 mth', 'delay 2 mths', 'delay 3 mths', 'delay 4 mths', 'delay 5 mths', 'delay 6 mths', 'delay 7 mths', 'delay 8 mths', 'no consumption', 'paid full', 'paid min']\n"
     ]
    }
   ],
   "source": [
    "# cleaning data\n",
    "for i in range(1,7):\n",
    "    pay = 'PAY_' + str(i)\n",
    "    card_default.loc[(card_default[pay] == -2), pay] = 'no consumption'\n",
    "    card_default.loc[(card_default[pay] == -1), pay] = 'paid full'\n",
    "    card_default.loc[(card_default[pay] == 0), pay] = 'paid min'\n",
    "    card_default.loc[(card_default[pay] == 1), pay] = 'delay 1 mth'\n",
    "    card_default.loc[(card_default[pay] == 2), pay] = 'delay 2 mths'\n",
    "    card_default.loc[(card_default[pay] == 3), pay] = 'delay 3 mths'\n",
    "    card_default.loc[(card_default[pay] == 4), pay] = 'delay 4 mths'\n",
    "    card_default.loc[(card_default[pay] == 5), pay] = 'delay 5 mths'\n",
    "    card_default.loc[(card_default[pay] == 6), pay] = 'delay 6 mths'\n",
    "    card_default.loc[(card_default[pay] == 7), pay] = 'delay 7 mths'\n",
    "    card_default.loc[(card_default[pay] == 8), pay] = 'delay 8 mths'\n",
    "    \n",
    "print('PAY_1 ' + str(sorted(card_default['PAY_1'].unique())))"
   ]
  },
  {
   "cell_type": "markdown",
   "id": "d4e19a0a",
   "metadata": {},
   "source": [
    "## Pre-loading"
   ]
  },
  {
   "cell_type": "markdown",
   "id": "8972d663",
   "metadata": {},
   "source": [
    "After transform columns name and values, we show top 5 row as sample to check how it looks like."
   ]
  },
  {
   "cell_type": "code",
   "execution_count": 28,
   "id": "5db0bf56",
   "metadata": {},
   "outputs": [
    {
     "data": {
      "text/html": [
       "<div>\n",
       "<style scoped>\n",
       "    .dataframe tbody tr th:only-of-type {\n",
       "        vertical-align: middle;\n",
       "    }\n",
       "\n",
       "    .dataframe tbody tr th {\n",
       "        vertical-align: top;\n",
       "    }\n",
       "\n",
       "    .dataframe thead th {\n",
       "        text-align: right;\n",
       "    }\n",
       "</style>\n",
       "<table border=\"1\" class=\"dataframe\">\n",
       "  <thead>\n",
       "    <tr style=\"text-align: right;\">\n",
       "      <th></th>\n",
       "      <th>ID</th>\n",
       "      <th>LIMIT_BAL</th>\n",
       "      <th>SEX</th>\n",
       "      <th>EDUCATION</th>\n",
       "      <th>MARRIAGE</th>\n",
       "      <th>AGE</th>\n",
       "      <th>PAY_1</th>\n",
       "      <th>PAY_2</th>\n",
       "      <th>PAY_3</th>\n",
       "      <th>PAY_4</th>\n",
       "      <th>...</th>\n",
       "      <th>BILL_AMT4</th>\n",
       "      <th>BILL_AMT5</th>\n",
       "      <th>BILL_AMT6</th>\n",
       "      <th>PAY_AMT1</th>\n",
       "      <th>PAY_AMT2</th>\n",
       "      <th>PAY_AMT3</th>\n",
       "      <th>PAY_AMT4</th>\n",
       "      <th>PAY_AMT5</th>\n",
       "      <th>PAY_AMT6</th>\n",
       "      <th>DEFAULT</th>\n",
       "    </tr>\n",
       "  </thead>\n",
       "  <tbody>\n",
       "    <tr>\n",
       "      <th>0</th>\n",
       "      <td>1</td>\n",
       "      <td>20000.0</td>\n",
       "      <td>F</td>\n",
       "      <td>University</td>\n",
       "      <td>Married</td>\n",
       "      <td>24</td>\n",
       "      <td>delay 2 mths</td>\n",
       "      <td>delay 2 mths</td>\n",
       "      <td>paid full</td>\n",
       "      <td>paid full</td>\n",
       "      <td>...</td>\n",
       "      <td>0.0</td>\n",
       "      <td>0.0</td>\n",
       "      <td>0.0</td>\n",
       "      <td>0.0</td>\n",
       "      <td>689.0</td>\n",
       "      <td>0.0</td>\n",
       "      <td>0.0</td>\n",
       "      <td>0.0</td>\n",
       "      <td>0.0</td>\n",
       "      <td>1</td>\n",
       "    </tr>\n",
       "    <tr>\n",
       "      <th>1</th>\n",
       "      <td>2</td>\n",
       "      <td>120000.0</td>\n",
       "      <td>F</td>\n",
       "      <td>University</td>\n",
       "      <td>Single</td>\n",
       "      <td>26</td>\n",
       "      <td>paid full</td>\n",
       "      <td>delay 2 mths</td>\n",
       "      <td>paid min</td>\n",
       "      <td>paid min</td>\n",
       "      <td>...</td>\n",
       "      <td>3272.0</td>\n",
       "      <td>3455.0</td>\n",
       "      <td>3261.0</td>\n",
       "      <td>0.0</td>\n",
       "      <td>1000.0</td>\n",
       "      <td>1000.0</td>\n",
       "      <td>1000.0</td>\n",
       "      <td>0.0</td>\n",
       "      <td>2000.0</td>\n",
       "      <td>1</td>\n",
       "    </tr>\n",
       "    <tr>\n",
       "      <th>2</th>\n",
       "      <td>3</td>\n",
       "      <td>90000.0</td>\n",
       "      <td>F</td>\n",
       "      <td>University</td>\n",
       "      <td>Single</td>\n",
       "      <td>34</td>\n",
       "      <td>paid min</td>\n",
       "      <td>paid min</td>\n",
       "      <td>paid min</td>\n",
       "      <td>paid min</td>\n",
       "      <td>...</td>\n",
       "      <td>14331.0</td>\n",
       "      <td>14948.0</td>\n",
       "      <td>15549.0</td>\n",
       "      <td>1518.0</td>\n",
       "      <td>1500.0</td>\n",
       "      <td>1000.0</td>\n",
       "      <td>1000.0</td>\n",
       "      <td>1000.0</td>\n",
       "      <td>5000.0</td>\n",
       "      <td>0</td>\n",
       "    </tr>\n",
       "    <tr>\n",
       "      <th>3</th>\n",
       "      <td>4</td>\n",
       "      <td>50000.0</td>\n",
       "      <td>F</td>\n",
       "      <td>University</td>\n",
       "      <td>Married</td>\n",
       "      <td>37</td>\n",
       "      <td>paid min</td>\n",
       "      <td>paid min</td>\n",
       "      <td>paid min</td>\n",
       "      <td>paid min</td>\n",
       "      <td>...</td>\n",
       "      <td>28314.0</td>\n",
       "      <td>28959.0</td>\n",
       "      <td>29547.0</td>\n",
       "      <td>2000.0</td>\n",
       "      <td>2019.0</td>\n",
       "      <td>1200.0</td>\n",
       "      <td>1100.0</td>\n",
       "      <td>1069.0</td>\n",
       "      <td>1000.0</td>\n",
       "      <td>0</td>\n",
       "    </tr>\n",
       "    <tr>\n",
       "      <th>4</th>\n",
       "      <td>5</td>\n",
       "      <td>50000.0</td>\n",
       "      <td>M</td>\n",
       "      <td>University</td>\n",
       "      <td>Married</td>\n",
       "      <td>57</td>\n",
       "      <td>paid full</td>\n",
       "      <td>paid min</td>\n",
       "      <td>paid full</td>\n",
       "      <td>paid min</td>\n",
       "      <td>...</td>\n",
       "      <td>20940.0</td>\n",
       "      <td>19146.0</td>\n",
       "      <td>19131.0</td>\n",
       "      <td>2000.0</td>\n",
       "      <td>36681.0</td>\n",
       "      <td>10000.0</td>\n",
       "      <td>9000.0</td>\n",
       "      <td>689.0</td>\n",
       "      <td>679.0</td>\n",
       "      <td>0</td>\n",
       "    </tr>\n",
       "  </tbody>\n",
       "</table>\n",
       "<p>5 rows × 25 columns</p>\n",
       "</div>"
      ],
      "text/plain": [
       "   ID  LIMIT_BAL SEX   EDUCATION MARRIAGE  AGE         PAY_1         PAY_2  \\\n",
       "0   1    20000.0   F  University  Married   24  delay 2 mths  delay 2 mths   \n",
       "1   2   120000.0   F  University   Single   26     paid full  delay 2 mths   \n",
       "2   3    90000.0   F  University   Single   34      paid min      paid min   \n",
       "3   4    50000.0   F  University  Married   37      paid min      paid min   \n",
       "4   5    50000.0   M  University  Married   57     paid full      paid min   \n",
       "\n",
       "       PAY_3      PAY_4  ... BILL_AMT4 BILL_AMT5  BILL_AMT6  PAY_AMT1  \\\n",
       "0  paid full  paid full  ...       0.0       0.0        0.0       0.0   \n",
       "1   paid min   paid min  ...    3272.0    3455.0     3261.0       0.0   \n",
       "2   paid min   paid min  ...   14331.0   14948.0    15549.0    1518.0   \n",
       "3   paid min   paid min  ...   28314.0   28959.0    29547.0    2000.0   \n",
       "4  paid full   paid min  ...   20940.0   19146.0    19131.0    2000.0   \n",
       "\n",
       "   PAY_AMT2  PAY_AMT3  PAY_AMT4  PAY_AMT5  PAY_AMT6  DEFAULT  \n",
       "0     689.0       0.0       0.0       0.0       0.0        1  \n",
       "1    1000.0    1000.0    1000.0       0.0    2000.0        1  \n",
       "2    1500.0    1000.0    1000.0    1000.0    5000.0        0  \n",
       "3    2019.0    1200.0    1100.0    1069.0    1000.0        0  \n",
       "4   36681.0   10000.0    9000.0     689.0     679.0        0  \n",
       "\n",
       "[5 rows x 25 columns]"
      ]
     },
     "execution_count": 28,
     "metadata": {},
     "output_type": "execute_result"
    }
   ],
   "source": [
    "card_default.head()"
   ]
  },
  {
   "cell_type": "markdown",
   "id": "adf55b8e",
   "metadata": {},
   "source": [
    "## Loading Data"
   ]
  },
  {
   "cell_type": "markdown",
   "id": "8f38f770",
   "metadata": {},
   "source": [
    "Use a for loop to read row by row and load it into MySQL"
   ]
  },
  {
   "cell_type": "code",
   "execution_count": null,
   "id": "1a041f94",
   "metadata": {},
   "outputs": [],
   "source": [
    "for index, row in card_default.iterrows():\n",
    "    sql = INSERT_DB.format(\n",
    "        row[\"ID\"],\n",
    "        float(row[\"LIMIT_BAL\"]),\n",
    "        row[\"SEX\"],\n",
    "        row[\"EDUCATION\"],\n",
    "        row[\"MARRIAGE\"],\n",
    "        int(row[\"AGE\"]),\n",
    "        row[\"PAY_1\"],\n",
    "        row[\"PAY_2\"],\n",
    "        row[\"PAY_3\"],\n",
    "        row[\"PAY_4\"],\n",
    "        row[\"PAY_5\"],\n",
    "        row[\"PAY_6\"],\n",
    "        float(row[\"BILL_AMT1\"]),\n",
    "        float(row[\"BILL_AMT2\"]),\n",
    "        float(row[\"BILL_AMT3\"]),\n",
    "        float(row[\"BILL_AMT4\"]),\n",
    "        float(row[\"BILL_AMT5\"]),\n",
    "        float(row[\"BILL_AMT6\"]),\n",
    "        float(row[\"PAY_AMT1\"]),\n",
    "        float(row[\"PAY_AMT2\"]),\n",
    "        float(row[\"PAY_AMT3\"]),\n",
    "        float(row[\"PAY_AMT4\"]),\n",
    "        float(row[\"PAY_AMT5\"]),\n",
    "        float(row[\"PAY_AMT6\"]),\n",
    "        int(row[\"DEFAULT\"])\n",
    "    )\n",
    "    # Optional: to print out loading status when running\n",
    "    #   if index % 1000 == 0:\n",
    "    #       print(str(index) + ' row done') \n",
    "    cur.execute(sql)\n",
    "    db.commit()"
   ]
  },
  {
   "cell_type": "code",
   "execution_count": null,
   "id": "dd8ebb46",
   "metadata": {},
   "outputs": [],
   "source": [
    "cur.close()\n",
    "db.close()"
   ]
  },
  {
   "cell_type": "markdown",
   "id": "554ada04",
   "metadata": {},
   "source": [
    "## ETL completed"
   ]
  },
  {
   "cell_type": "markdown",
   "id": "b1b5edd7",
   "metadata": {},
   "source": [
    "Dataset have been Extract, Transform, Load into MySQL. We may proceed to MySQL to check our data."
   ]
  },
  {
   "cell_type": "code",
   "execution_count": null,
   "id": "cc7f947f",
   "metadata": {},
   "outputs": [],
   "source": []
  }
 ],
 "metadata": {
  "kernelspec": {
   "display_name": "Python 3 (ipykernel)",
   "language": "python",
   "name": "python3"
  },
  "language_info": {
   "codemirror_mode": {
    "name": "ipython",
    "version": 3
   },
   "file_extension": ".py",
   "mimetype": "text/x-python",
   "name": "python",
   "nbconvert_exporter": "python",
   "pygments_lexer": "ipython3",
   "version": "3.9.7"
  }
 },
 "nbformat": 4,
 "nbformat_minor": 5
}
